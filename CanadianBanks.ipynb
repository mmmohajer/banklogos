{
 "cells": [
  {
   "cell_type": "code",
   "execution_count": 19,
   "metadata": {},
   "outputs": [],
   "source": [
    "import pandas as pd\n",
    "import bs4\n",
    "from urllib.request import Request\n",
    "from urllib.request import urlopen as uReq\n",
    "from bs4 import BeautifulSoup as soup"
   ]
  },
  {
   "cell_type": "code",
   "execution_count": 20,
   "metadata": {},
   "outputs": [],
   "source": [
    "url = \"https://bank-code.net/transit-number\"\n",
    "\n",
    "# headers={'User-Agent': 'Mozilla/5.0'}\n",
    "\n",
    "req = Request(url, headers =  {'User-Agent':\"cheese\"})\n",
    "\n",
    "uClient = uReq(req)\n",
    "\n",
    "page_html = uClient.read()\n",
    "\n",
    "uClient.close()\n",
    "\n",
    "page_soup = soup(page_html, \"html.parser\")"
   ]
  },
  {
   "cell_type": "code",
   "execution_count": 21,
   "metadata": {},
   "outputs": [
    {
     "data": {
      "text/plain": [
       "110"
      ]
     },
     "execution_count": 21,
     "metadata": {},
     "output_type": "execute_result"
    }
   ],
   "source": [
    "containers = page_soup.tbody.findAll(\"tr\")\n",
    "\n",
    "len(containers)"
   ]
  },
  {
   "cell_type": "code",
   "execution_count": 22,
   "metadata": {},
   "outputs": [],
   "source": [
    "col_insName = []\n",
    "col_insNum = []\n",
    "\n",
    "for container in containers:\n",
    "    columns = container.findAll(\"td\")\n",
    "    insName = columns[0].text.strip()\n",
    "    insNum = columns[1].text.strip()\n",
    "    insType = columns[2].text.strip()\n",
    "    if insType == \"Bank\":\n",
    "        col_insName.append(insName)\n",
    "        col_insNum.append(insNum)\n",
    "\n",
    "newdf = pd.DataFrame({\"Institution Name\": col_insName,\n",
    "                      \"Institution Number\": col_insNum})\n",
    "newdf.sort_values(by = [\"Institution Number\"], ascending = True, inplace = True)\n",
    "newdf.reset_index(inplace = True)\n",
    "newdf.drop(\"index\", axis = 1, inplace = True)"
   ]
  },
  {
   "cell_type": "code",
   "execution_count": 23,
   "metadata": {},
   "outputs": [
    {
     "data": {
      "text/html": [
       "<div>\n",
       "<style scoped>\n",
       "    .dataframe tbody tr th:only-of-type {\n",
       "        vertical-align: middle;\n",
       "    }\n",
       "\n",
       "    .dataframe tbody tr th {\n",
       "        vertical-align: top;\n",
       "    }\n",
       "\n",
       "    .dataframe thead th {\n",
       "        text-align: right;\n",
       "    }\n",
       "</style>\n",
       "<table border=\"1\" class=\"dataframe\">\n",
       "  <thead>\n",
       "    <tr style=\"text-align: right;\">\n",
       "      <th></th>\n",
       "      <th>Institution Name</th>\n",
       "      <th>Institution Number</th>\n",
       "    </tr>\n",
       "  </thead>\n",
       "  <tbody>\n",
       "    <tr>\n",
       "      <th>0</th>\n",
       "      <td>Bank Of Montreal</td>\n",
       "      <td>001</td>\n",
       "    </tr>\n",
       "    <tr>\n",
       "      <th>1</th>\n",
       "      <td>The Bank Of Nova Scotia</td>\n",
       "      <td>002</td>\n",
       "    </tr>\n",
       "    <tr>\n",
       "      <th>2</th>\n",
       "      <td>Royal Bank Of Canada</td>\n",
       "      <td>003</td>\n",
       "    </tr>\n",
       "    <tr>\n",
       "      <th>3</th>\n",
       "      <td>The Toronto-Dominion Bank</td>\n",
       "      <td>004</td>\n",
       "    </tr>\n",
       "    <tr>\n",
       "      <th>4</th>\n",
       "      <td>Banque Nationale Du Canada</td>\n",
       "      <td>006</td>\n",
       "    </tr>\n",
       "    <tr>\n",
       "      <th>...</th>\n",
       "      <td>...</td>\n",
       "      <td>...</td>\n",
       "    </tr>\n",
       "    <tr>\n",
       "      <th>56</th>\n",
       "      <td>Cs Alterna Bank</td>\n",
       "      <td>608</td>\n",
       "    </tr>\n",
       "    <tr>\n",
       "      <th>57</th>\n",
       "      <td>Tangerine Bank</td>\n",
       "      <td>614</td>\n",
       "    </tr>\n",
       "    <tr>\n",
       "      <th>58</th>\n",
       "      <td>Equitable Bank</td>\n",
       "      <td>623</td>\n",
       "    </tr>\n",
       "    <tr>\n",
       "      <th>59</th>\n",
       "      <td>Comtech Firecredit Union Limited</td>\n",
       "      <td>807</td>\n",
       "    </tr>\n",
       "    <tr>\n",
       "      <th>60</th>\n",
       "      <td>Concentra Bank</td>\n",
       "      <td>853</td>\n",
       "    </tr>\n",
       "  </tbody>\n",
       "</table>\n",
       "<p>61 rows × 2 columns</p>\n",
       "</div>"
      ],
      "text/plain": [
       "                    Institution Name Institution Number\n",
       "0                   Bank Of Montreal                001\n",
       "1            The Bank Of Nova Scotia                002\n",
       "2               Royal Bank Of Canada                003\n",
       "3          The Toronto-Dominion Bank                004\n",
       "4         Banque Nationale Du Canada                006\n",
       "..                               ...                ...\n",
       "56                   Cs Alterna Bank                608\n",
       "57                    Tangerine Bank                614\n",
       "58                    Equitable Bank                623\n",
       "59  Comtech Firecredit Union Limited                807\n",
       "60                    Concentra Bank                853\n",
       "\n",
       "[61 rows x 2 columns]"
      ]
     },
     "execution_count": 23,
     "metadata": {},
     "output_type": "execute_result"
    }
   ],
   "source": [
    "newdf"
   ]
  },
  {
   "cell_type": "code",
   "execution_count": 24,
   "metadata": {},
   "outputs": [],
   "source": [
    "newdf.to_json('CanadianBanks.json', orient='records')"
   ]
  },
  {
   "cell_type": "code",
   "execution_count": null,
   "metadata": {},
   "outputs": [],
   "source": [
    "# f = open(\"CanadianBanks.json\", \"w\")\n",
    "\n",
    "# for row in newdf.iterrows():\n",
    "#     row[1].to_json(f, orient='records')\n",
    "#     f.write(\"\\n\")    \n",
    "\n",
    "# f.close()"
   ]
  },
  {
   "cell_type": "code",
   "execution_count": null,
   "metadata": {},
   "outputs": [],
   "source": []
  }
 ],
 "metadata": {
  "kernelspec": {
   "display_name": "Python 3",
   "language": "python",
   "name": "python3"
  },
  "language_info": {
   "codemirror_mode": {
    "name": "ipython",
    "version": 3
   },
   "file_extension": ".py",
   "mimetype": "text/x-python",
   "name": "python",
   "nbconvert_exporter": "python",
   "pygments_lexer": "ipython3",
   "version": "3.8.5"
  }
 },
 "nbformat": 4,
 "nbformat_minor": 4
}
